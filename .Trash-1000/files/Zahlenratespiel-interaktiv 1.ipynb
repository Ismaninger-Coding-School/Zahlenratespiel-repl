{
 "cells": [
  {
   "cell_type": "markdown",
   "metadata": {},
   "source": [
    "# Mein erstes Computerspiel 🎮"
   ]
  },
  {
   "cell_type": "markdown",
   "metadata": {},
   "source": [
    "## Ziel des Kurses  "
   ]
  },
  {
   "cell_type": "markdown",
   "metadata": {},
   "source": [
    "Wir wollen gemeinsam ein erstes Computerprogram entwickeln und spielen.\n",
    "\n",
    "Am Ende dieses Kurses habt ihr ein cooles \n",
    "\n",
    "🎲 **Zahlenratespiel** 🎲 \n",
    "\n",
    "\n",
    "das ihr mit Euren Freunden und Familien spielen könnt! "
   ]
  },
  {
   "cell_type": "markdown",
   "metadata": {},
   "source": [
    "Hier seht ihr in einem kurzen Video das Spiel:"
   ]
  },
  {
   "cell_type": "markdown",
   "metadata": {},
   "source": [
    "<img src=\"pics/zahlenrate5.gif\" align=\"center\">"
   ]
  },
  {
   "cell_type": "markdown",
   "metadata": {},
   "source": [
    "Aber bevor wir das können, müssen wir ein paar Grundlagen verstehen über Comupter und Computersprachen.\n",
    "\n",
    "Wir nutzen die Programiersprache [python](https://www.python.org/)."
   ]
  },
  {
   "cell_type": "markdown",
   "metadata": {},
   "source": [
    "## Python und Jupyter notebooks"
   ]
  },
  {
   "cell_type": "markdown",
   "metadata": {},
   "source": [
    "<img width='400px' align='left' src='https://www.python.org/static/community_logos/python-logo-master-v3-TM-flattened.png'>\n",
    "\n",
    "In erster Linie werden wir etwas über eine unglaublich unterhaltsame und einfach zu erlernende Programmiersprache namens Python lernen. Es ist die erste Wahl von Datenwissenschaftlern, Hackern und sogar internationalen Spionen! Am wichtigsten ist, wie ich bereits erwähnt hatte, dass es eine Menge Spaß macht, Dinge mit Python zu tun."
   ]
  },
  {
   "cell_type": "markdown",
   "metadata": {},
   "source": [
    "<img width='200px' align='left' src='http://jupyter.org/assets/try/jupyter.png'>\n",
    "\n",
    "Das zweite, worüber wir lernen werden, ist [Jupyter Notebooks](https://jupyter.org/), das ist diese Plattform, die wir gerade verwenden. In der Vergangenheit wurde die meiste Programmierung über die Befehlszeile durchgeführt, hier lönnen wir direkt in diesem Dokument programieren und diesen TExt hier schreiben - alles zusammen - wow 🤯. Also sind Jupyter notebooks  eine tolle Art programieren zu lernen, denn sie sind eine Zusammenstellung der Befehlszeile und des Texteditors auf eine Weise, die für jedermann einfach zu handhaben ist, auch für Personen ohne Programmiererfahrung."
   ]
  },
  {
   "cell_type": "markdown",
   "metadata": {},
   "source": [
    "## Wie programmiere ich? "
   ]
  },
  {
   "cell_type": "markdown",
   "metadata": {},
   "source": [
    "Dies ist ein Jupyter-Notebook mit Textblöcken und Codeblöcken, die Zellen genannt werden. \n",
    "\n",
    "Drücke die `Umschalt+EINGABETASTE`, um eine Zelle auszuführen und zur nächsten überzugehen. \n",
    "\n",
    "Du kannst den Code auch bearbeiten und erneut ausführen, um zu sehen, wie sich die Ausgabe ändert.\n",
    "\n",
    "Versuche, die folgenden Zellen auszuführen, indem Du jeweils die `UMSCHALT- und die EINGABETASTE` (gleichzeitig) drückst.\n",
    "\n",
    "Du kannst gerne experimentieren - nichts kann kaputt gehen! \n"
   ]
  },
  {
   "cell_type": "code",
   "execution_count": 1,
   "metadata": {},
   "outputs": [
    {
     "name": "stdout",
     "output_type": "stream",
     "text": [
      "2\n"
     ]
    }
   ],
   "source": [
    "# Clicke in diese Zelle. Dann drücke UMSCHALT- und die EINGABETASTE (SHIFT+ENTER)\n",
    "2+2\n",
    "print(2)"
   ]
  },
  {
   "cell_type": "markdown",
   "metadata": {},
   "source": [
    "Siehst Du, du hast eben den Computer rechnen lassen! Gleich nochmal:"
   ]
  },
  {
   "cell_type": "code",
   "execution_count": 2,
   "metadata": {},
   "outputs": [
    {
     "data": {
      "text/plain": [
       "1"
      ]
     },
     "execution_count": 2,
     "metadata": {},
     "output_type": "execute_result"
    }
   ],
   "source": [
    "# Dies wird als \"Kommentar\" bezeichnet. Es ist eine Botschaft an andere Menschen.\n",
    "# Beginnend mit # weist das Programm an, diese Zeile nicht zu lesen.\n",
    "# Das Programm führt die nächste Zeile aus, da es nicht mit beginnt\n",
    "\n",
    "5-4"
   ]
  },
  {
   "cell_type": "markdown",
   "metadata": {},
   "source": [
    "#### Mein erstes Programm: Hallo Welt!"
   ]
  },
  {
   "cell_type": "markdown",
   "metadata": {},
   "source": [
    "Im Laufe der Jahrzehnte haben Computerprogrammierer es vorgezogen, eine neue Sprache zu lernen, indem sie ein kurzes Programm erstellten, das `Hallo Welt` sagt. \n",
    "Wir werden also auch mit diesem klassischen Beispiel beginnen, bevor wir zu mathematischen Dingen übergehen!"
   ]
  },
  {
   "cell_type": "markdown",
   "metadata": {},
   "source": [
    "wenn man etwas mit Python ausgeben möchte, benutzt man dafür `print(Ausgabe)`\n",
    "\n",
    "\n",
    "Beispiel:"
   ]
  },
  {
   "cell_type": "code",
   "execution_count": 3,
   "metadata": {},
   "outputs": [
    {
     "name": "stdout",
     "output_type": "stream",
     "text": [
      "Hallo Welt!\n"
     ]
    }
   ],
   "source": [
    "print(\"Hallo Welt!\")"
   ]
  },
  {
   "cell_type": "markdown",
   "metadata": {},
   "source": [
    "<img align='left' src='https://i.pinimg.com/originals/90/6a/d9/906ad9a5dc4ed6ee65fd1b03d63e1663.gif'>"
   ]
  },
  {
   "cell_type": "markdown",
   "metadata": {},
   "source": [
    "🎉 Juhu ! Du hast ein erstes Program geschrieben 🎉"
   ]
  },
  {
   "cell_type": "markdown",
   "metadata": {},
   "source": [
    "#####  Übung mit `print()`"
   ]
  },
  {
   "cell_type": "markdown",
   "metadata": {},
   "source": [
    "Schreibe selber eine Ausgabe:"
   ]
  },
  {
   "cell_type": "code",
   "execution_count": 4,
   "metadata": {},
   "outputs": [],
   "source": [
    "# Dein Code hier:\n"
   ]
  },
  {
   "cell_type": "markdown",
   "metadata": {},
   "source": [
    "### Wie speichert ein Computerprogram Daten ?"
   ]
  },
  {
   "cell_type": "markdown",
   "metadata": {},
   "source": [
    "Ein Computerprogram kann Daten abspeichert und wiederverwenden in from von sogennanten `Variablen`\n",
    "\n",
    "\n",
    "Wie sieht das in Python aus? \n",
    "Eine Variable braucht einen Namen und einen Wert:"
   ]
  },
  {
   "cell_type": "markdown",
   "metadata": {},
   "source": [
    "👉 `Name = Wert`"
   ]
  },
  {
   "cell_type": "markdown",
   "metadata": {},
   "source": [
    "Der Wert kann z.B. eine Zahl, ein Wort oder ein Wahrheitswert (Wahr (englisch: True), Falsch (englisch: False))\n",
    "sein"
   ]
  },
  {
   "cell_type": "markdown",
   "metadata": {},
   "source": [
    "Beispiele:"
   ]
  },
  {
   "cell_type": "code",
   "execution_count": 5,
   "metadata": {},
   "outputs": [],
   "source": [
    "Alter = 12 \n",
    "Name = \"Lara\" \n",
    "verheiratet = False"
   ]
  },
  {
   "cell_type": "markdown",
   "metadata": {},
   "source": [
    "Variablen kann man ändern: "
   ]
  },
  {
   "cell_type": "code",
   "execution_count": 6,
   "metadata": {},
   "outputs": [
    {
     "name": "stdout",
     "output_type": "stream",
     "text": [
      "9\n",
      "12\n"
     ]
    }
   ],
   "source": [
    "a = 9\n",
    "print(a)\n",
    "a = 12\n",
    "print(a)"
   ]
  },
  {
   "cell_type": "markdown",
   "metadata": {},
   "source": [
    "Man kann mit ihnen rechnen, sie vergleichen und vieles mehr\n"
   ]
  },
  {
   "cell_type": "code",
   "execution_count": 7,
   "metadata": {},
   "outputs": [
    {
     "name": "stdout",
     "output_type": "stream",
     "text": [
      "17\n",
      "True\n"
     ]
    }
   ],
   "source": [
    "b = 5\n",
    "c = a + b\n",
    "print(c)\n",
    "print (c > b)"
   ]
  },
  {
   "cell_type": "markdown",
   "metadata": {},
   "source": [
    "Möchte man Text und eine Variable ausgeben, trennt man diese mit einem Komma.\n",
    "Beispiel:"
   ]
  },
  {
   "cell_type": "code",
   "execution_count": 8,
   "metadata": {},
   "outputs": [
    {
     "name": "stdout",
     "output_type": "stream",
     "text": [
      "Meine Zahl ist 7\n"
     ]
    }
   ],
   "source": [
    "meine_zahl = 7\n",
    "print(\"Meine Zahl ist\",meine_zahl)"
   ]
  },
  {
   "cell_type": "markdown",
   "metadata": {},
   "source": [
    "#### Übung: `print` und Variablen"
   ]
  },
  {
   "cell_type": "markdown",
   "metadata": {},
   "source": [
    "Speichere deine Lieblingsfarbe in der Variable `meine_lieblingsfarbe` . \n",
    "Gib dann mithilfe von `print()` aus:\n",
    "\n",
    "    \"Meine Lieblingsfarbe ist ...\" \n",
    "\n",
    "(statt `...` soll natürlich deine Lieblingsfarbe ausgegeben werden)"
   ]
  },
  {
   "cell_type": "code",
   "execution_count": 9,
   "metadata": {},
   "outputs": [],
   "source": [
    "# hier Dein Code\n",
    "\n",
    "\n",
    "\n"
   ]
  },
  {
   "cell_type": "markdown",
   "metadata": {},
   "source": [
    "###  Bedingungen"
   ]
  },
  {
   "cell_type": "markdown",
   "metadata": {},
   "source": [
    "Computer sind grundsätlich dumm und können nur das tun was du ihnen sagst 🤓\n",
    "\n",
    "Das heisst, wDu musst ihm genau sagen was er in welchem Fall tun, also Bedingunden für ihn aufschreiben ✍🏻"
   ]
  },
  {
   "cell_type": "markdown",
   "metadata": {},
   "source": [
    "##### Die  `if - else` Bedingung"
   ]
  },
  {
   "cell_type": "markdown",
   "metadata": {},
   "source": [
    "Dazu gibt es verschiedene Konzepte. Das erste, das wir lernen werden ist `Entweder - Oder`. \n",
    "\n",
    "Das benutzt Du um dem Computer zu sagen:\n",
    "\n",
    "\n",
    "Im Falle von blabla mache **entweder** das **oder** in anderem Falle tue dies."
   ]
  },
  {
   "cell_type": "markdown",
   "metadata": {},
   "source": [
    "Beispiel:"
   ]
  },
  {
   "cell_type": "code",
   "execution_count": 10,
   "metadata": {},
   "outputs": [
    {
     "name": "stdout",
     "output_type": "stream",
     "text": [
      "a ist 5\n",
      "a ist nicht 5\n"
     ]
    }
   ],
   "source": [
    "a = 5\n",
    "if a == 5:\n",
    "    print(\"a ist 5\")\n",
    "else:\n",
    "    print(\"a ist nicht 5\")\n",
    "\n",
    "a = 6\n",
    "if a == 5:\n",
    "    print(\"a ist 5\")\n",
    "else:\n",
    "    print(\"a ist nicht 5\")"
   ]
  },
  {
   "cell_type": "markdown",
   "metadata": {},
   "source": [
    "Je nachdem, was gerade für `a`\n",
    " zutrifft, wird entweder der Code hinter dem `if` oder hinter dem `else` ausgeführt\n",
    "Man kann auch mehrere Bedingungen haben. Dann benutzt man `elif`:"
   ]
  },
  {
   "cell_type": "code",
   "execution_count": 15,
   "metadata": {},
   "outputs": [
    {
     "name": "stdout",
     "output_type": "stream",
     "text": [
      "a ist nicht 5\n"
     ]
    }
   ],
   "source": [
    "a = 6\n",
    "b = 6\n",
    "\n",
    "if a == 5:\n",
    "    print(\"a ist 5\")\n",
    "elif b == 5:\n",
    "    print(\"b ist 5\")\n",
    "else:\n",
    "    print(\"a ist nicht 5\")"
   ]
  },
  {
   "cell_type": "markdown",
   "metadata": {},
   "source": [
    "#### Übung `if - else`:\n",
    "\n",
    "Überlege dir zwei Zahlen und speichere diese in den Variablen `a` und `b`. Prüfe dann mithile von `if` und `else`, \n",
    "welche die größere der beiden Zahlen ist. \n",
    "\n",
    "Wenn `a` größer als `b`, dann gib `a ist größer` aus. Wenn `b` größer ist,\n",
    "gib `b ist größer` aus."
   ]
  },
  {
   "cell_type": "code",
   "execution_count": 16,
   "metadata": {},
   "outputs": [],
   "source": [
    "#Dein Code hier\n",
    "\n"
   ]
  },
  {
   "cell_type": "markdown",
   "metadata": {},
   "source": [
    "#### Die `while` Schleife\n",
    "\n",
    "Wenn man die gleiche Anweisung mehrfach ausführen möchte, bis eine gewisse Bedingung erfüllt ist, nutzt man so\n",
    "genannte Schleifen.\n",
    "\n",
    "Beispiel:\n"
   ]
  },
  {
   "cell_type": "code",
   "execution_count": 17,
   "metadata": {},
   "outputs": [
    {
     "name": "stdout",
     "output_type": "stream",
     "text": [
      "3 3\n"
     ]
    }
   ],
   "source": [
    "a = 5\n",
    "b = 3\n",
    "\n",
    "while a > b:\n",
    "    a = a - 1\n",
    "print(a,b)\n"
   ]
  },
  {
   "cell_type": "markdown",
   "metadata": {},
   "source": [
    "Beispiel 2:"
   ]
  },
  {
   "cell_type": "code",
   "execution_count": 18,
   "metadata": {},
   "outputs": [
    {
     "name": "stdout",
     "output_type": "stream",
     "text": [
      "3 3\n"
     ]
    }
   ],
   "source": [
    "a = 5\n",
    "b = 3\n",
    "a_größer = True\n",
    "\n",
    "while a_größer:\n",
    "    a = a - 1\n",
    "    if a == b:\n",
    "        a_größer = False\n",
    "        \n",
    "print(a,b)"
   ]
  },
  {
   "cell_type": "markdown",
   "metadata": {},
   "source": [
    "#### Übung `while`\n",
    "\n",
    "1. Speichere den Wert `5` in der Variable `a`.\n",
    "2. Erstelle eine `while` - Schleife, die so lange läuft, wie `a` größer als `0` ist.\n",
    "3. Gib in jedem Schleifendurchgang den aktuellen Wert von `a` aus. Dann verringere `a` um eins.\n",
    "4. Wenn die Schleife verlassen wurde,  gib `\"while-Schleife beendet\"` aus."
   ]
  },
  {
   "cell_type": "code",
   "execution_count": 19,
   "metadata": {},
   "outputs": [],
   "source": [
    "# dein Code hier\n",
    "\n",
    "\n"
   ]
  },
  {
   "cell_type": "markdown",
   "metadata": {},
   "source": [
    "#### Eingabe in python\n",
    "\n",
    "Wenn man möchte, dass der Benutzer etwas eingeben kann, nutzt man `input()`\n",
    "."
   ]
  },
  {
   "cell_type": "markdown",
   "metadata": {},
   "source": [
    "Der Computer speichert die Eingabe immer als Wort, sogar wenn man eine Zahl eingibt. Damit der Computer weiß,\n",
    "dass er die Eingabe als eine Zahl und nicht als ein Wort speicher soll, benutzt man die Funktion `int()` zur \n",
    "Umwandlung"
   ]
  },
  {
   "cell_type": "code",
   "execution_count": 20,
   "metadata": {},
   "outputs": [
    {
     "name": "stdout",
     "output_type": "stream",
     "text": [
      "Bitte gib eine Zahl an: 12\n"
     ]
    }
   ],
   "source": [
    "eingabe = input(\"Bitte gib eine Zahl an: \")\n",
    "\n",
    "zahl = int(eingabe)\n",
    "                \n",
    "# Man kann natürlich auch direkt schreiben: zahl = int(input(\"Bitte gib eine Zahl an: \"))\n",
    "# Führe diese Zelle mit SHIFT+ENTER aus und folge der Eingabeanweisung \n",
    "# dann drücke wieder ENTER um deine EINGABE abzuschicken"
   ]
  },
  {
   "cell_type": "markdown",
   "metadata": {},
   "source": [
    "#### Übung mit Eingabe\n",
    "\n",
    "Benutze `input()` um den Benutzer nach seinem Namen zu fragen und speichere diesen Namen in der Variable `name`."
   ]
  },
  {
   "cell_type": "code",
   "execution_count": 21,
   "metadata": {},
   "outputs": [],
   "source": [
    "# Dein Code hier\n",
    "\n"
   ]
  },
  {
   "cell_type": "markdown",
   "metadata": {},
   "source": [
    "### Bibliotheken \n",
    "\n",
    "Es gibt sogenannte Bibliotheken, in denen man alle relevanten Befehle zu einem bestimmten Gebiet findet\n",
    "Beispielsweise gibt es eine Bibliothek `math`, in der viele relevante mathematische Funktionen und Zahlen \n",
    "gespeichert sind.\n",
    "Ein anderes Beispiel ist die Bibliothek `random` (deutsch: zufällig). Diese benötigt man, wenn man zufällige \n",
    "Zahlen generieren möchte. Um eine Bibliothek benutzen zu können, muss man import Bibliothek schreiben.\n"
   ]
  },
  {
   "cell_type": "markdown",
   "metadata": {},
   "source": [
    "##### Random-Bibliothek\n",
    "\n"
   ]
  },
  {
   "cell_type": "code",
   "execution_count": 12,
   "metadata": {},
   "outputs": [],
   "source": [
    "import random"
   ]
  },
  {
   "cell_type": "markdown",
   "metadata": {},
   "source": [
    "Um auf eine Funktion einer Bibliothek zuzugreifen, muss man den `Bibliotheksnamen.Funktion` schreiben. Der \n",
    "`randint` - Funktion muss man zusätzlich noch sagen, in welchem Zahlenbereich die zufällige Zahl liegen soll."
   ]
  },
  {
   "cell_type": "code",
   "execution_count": 15,
   "metadata": {},
   "outputs": [
    {
     "name": "stdout",
     "output_type": "stream",
     "text": [
      "29\n"
     ]
    }
   ],
   "source": [
    "a = random.randint(0,50)\n",
    "print(a)"
   ]
  },
  {
   "cell_type": "markdown",
   "metadata": {},
   "source": [
    "Führe die Zelle oben nochmal aus, steht dieselbe Zahl da? Wahrscheinlich nicht."
   ]
  },
  {
   "cell_type": "markdown",
   "metadata": {},
   "source": [
    "#### Übung zu `random`\n",
    "\n",
    "Speichere eine Zahl zwischen `5` und `10` in der Variable `zufallszahl` und gib diese aus."
   ]
  },
  {
   "cell_type": "code",
   "execution_count": 22,
   "metadata": {},
   "outputs": [],
   "source": [
    "# dein Code hier:\n"
   ]
  },
  {
   "cell_type": "markdown",
   "metadata": {},
   "source": [
    "# Finale: Programmiere dein Zahlenratespiel 🎲🤔"
   ]
  },
  {
   "cell_type": "markdown",
   "metadata": {},
   "source": [
    "1. Nutze die random Bibliothek, um eine zufällige Zahl zwischen 0 und 50 zu erstellen. Speichere diese Zahl in\n",
    "der Variable \"zufallszahl\".\n",
    "2. Erstelle eine Variable \"zähler\", in der du speicherst, wie viele Versuche man für das Erraten der Zahl \n",
    "bekommt und eine Variable \"zahl_nicht_gefunden\", in der du zunächst einmal \"True\" speicherst. Diese Variable\n",
    "soll später zu False geändert werden, sobald die richtige Zahl gefunden wurde (jetzt aber noch nicht).\n",
    "3. Fordere den Benutzer auf, eine Zahl einzugeben und speichere diese in einer Variable \"eingabe\".\n",
    "4. Prüfe mithilfe von if und else, ob die eingegebene Zahl die richtige ist. Sollte sie zu klein oder zu groß \n",
    "sein, gib mithilfe von print() einen Tipp aus, der sagt, ob die Zahl zu groß oder zu klein ist. Wurde die \n",
    "richtige Zahl erraten, gib dies mithilfe von print() aus.\n",
    "5. Packe alles, was mehrmals ausgeführt werden soll in eine while - Schleife. Die while - Schleife soll so \n",
    "lange laufen, wie die Zahl nicht gefunden wurde. Setze also die Variable \"zahl_nicht_gefunden\" auf True, \n",
    "sobald die Zahl gefunden wurde.\n",
    "6.Verringere den Zähler, in dem gespeichert ist, wie viele Versuche man hat, jedes Mal, wenn eine falsche \n",
    "Zahl eingegeben wurde. Ist der Zähler 0, beende die while-Schleife und gib die richtige Zahl aus."
   ]
  },
  {
   "cell_type": "code",
   "execution_count": 23,
   "metadata": {},
   "outputs": [],
   "source": [
    "# Dein Code hier\n"
   ]
  },
  {
   "cell_type": "code",
   "execution_count": null,
   "metadata": {},
   "outputs": [],
   "source": []
  }
 ],
 "metadata": {
  "kernelspec": {
   "display_name": "Python 3",
   "language": "python",
   "name": "python3"
  },
  "language_info": {
   "codemirror_mode": {
    "name": "ipython",
    "version": 3
   },
   "file_extension": ".py",
   "mimetype": "text/x-python",
   "name": "python",
   "nbconvert_exporter": "python",
   "pygments_lexer": "ipython3",
   "version": "3.9.6"
  }
 },
 "nbformat": 4,
 "nbformat_minor": 4
}
